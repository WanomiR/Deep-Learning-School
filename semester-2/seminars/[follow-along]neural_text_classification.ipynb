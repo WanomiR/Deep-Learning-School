{
 "cells": [
  {
   "attachments": {},
   "cell_type": "markdown",
   "metadata": {},
   "source": [
    "### Setup\n"
   ]
  },
  {
   "cell_type": "code",
   "execution_count": 1,
   "metadata": {},
   "outputs": [],
   "source": [
    "import torch\n",
    "import torch.nn as nn\n",
    "from torch.utils.data import Dataset, DataLoader\n",
    "import datasets\n",
    "\n",
    "import numpy as np\n",
    "import matplotlib.pyplot as plt\n",
    "\n",
    "from tqdm.notebook import tqdm\n",
    "from IPython.display import clear_output\n",
    "from datasets import load_dataset\n",
    "from nltk.tokenize import word_tokenize\n",
    "from sklearn.model_selection import train_test_split\n",
    "import nltk\n",
    "\n",
    "from collections import Counter\n",
    "from typing import List\n",
    "import string"
   ]
  },
  {
   "cell_type": "code",
   "execution_count": 2,
   "metadata": {},
   "outputs": [
    {
     "name": "stderr",
     "output_type": "stream",
     "text": [
      "[nltk_data] Downloading package punkt to /Users/ioann/nltk_data...\n",
      "[nltk_data]   Package punkt is already up-to-date!\n"
     ]
    },
    {
     "data": {
      "text/plain": [
       "True"
      ]
     },
     "execution_count": 2,
     "metadata": {},
     "output_type": "execute_result"
    }
   ],
   "source": [
    "nltk.download(\"punkt\")"
   ]
  },
  {
   "cell_type": "code",
   "execution_count": 3,
   "metadata": {},
   "outputs": [
    {
     "data": {
      "text/plain": [
       "'mps'"
      ]
     },
     "execution_count": 3,
     "metadata": {},
     "output_type": "execute_result"
    }
   ],
   "source": [
    "device = \"mps\" if torch.backends.mps.is_available() else \"cpu\"\n",
    "device"
   ]
  },
  {
   "attachments": {},
   "cell_type": "markdown",
   "metadata": {},
   "source": [
    "### Data preparation\n"
   ]
  },
  {
   "cell_type": "code",
   "execution_count": 4,
   "metadata": {},
   "outputs": [
    {
     "name": "stderr",
     "output_type": "stream",
     "text": [
      "Found cached dataset imdb (/Users/ioann/.cache/huggingface/datasets/imdb/plain_text/1.0.0/d613c88cf8fa3bab83b4ded3713f1f74830d1100e171db75bbddb80b3345c9c0)\n"
     ]
    },
    {
     "data": {
      "application/vnd.jupyter.widget-view+json": {
       "model_id": "329ba42bc75a4b2c9b05c6421313f468",
       "version_major": 2,
       "version_minor": 0
      },
      "text/plain": [
       "  0%|          | 0/3 [00:00<?, ?it/s]"
      ]
     },
     "metadata": {},
     "output_type": "display_data"
    }
   ],
   "source": [
    "# data loading\n",
    "dataset = datasets.load_dataset(\"imdb\")"
   ]
  },
  {
   "cell_type": "code",
   "execution_count": 5,
   "metadata": {},
   "outputs": [
    {
     "data": {
      "application/vnd.jupyter.widget-view+json": {
       "model_id": "20e4bb8b8bd14973935719c15164b783",
       "version_major": 2,
       "version_minor": 0
      },
      "text/plain": [
       "  0%|          | 0/25000 [00:00<?, ?it/s]"
      ]
     },
     "metadata": {},
     "output_type": "display_data"
    }
   ],
   "source": [
    "words = Counter()\n",
    "\n",
    "for example in tqdm(dataset[\"train\"][\"text\"]):\n",
    "  processed_text = example.lower().translate(\n",
    "      str.maketrans(\"\", \"\", string.punctuation)\n",
    "  )\n",
    "\n",
    "  for word in word_tokenize(processed_text):\n",
    "    words[word] += 1"
   ]
  },
  {
   "cell_type": "code",
   "execution_count": 6,
   "metadata": {},
   "outputs": [
    {
     "data": {
      "text/plain": [
       "[('the', 334696),\n",
       " ('and', 162228),\n",
       " ('a', 161941),\n",
       " ('of', 145326),\n",
       " ('to', 135042),\n",
       " ('is', 106855),\n",
       " ('in', 93028),\n",
       " ('it', 77109),\n",
       " ('i', 75732),\n",
       " ('this', 75190)]"
      ]
     },
     "execution_count": 6,
     "metadata": {},
     "output_type": "execute_result"
    }
   ],
   "source": [
    "sorted(words.items(), key=lambda x: x[1], reverse=True)[:10]"
   ]
  },
  {
   "cell_type": "code",
   "execution_count": 7,
   "metadata": {},
   "outputs": [
    {
     "data": {
      "text/plain": [
       "11399"
      ]
     },
     "execution_count": 7,
     "metadata": {},
     "output_type": "execute_result"
    }
   ],
   "source": [
    "vocab = set([\"<unk>\", \"<bos>\", \"<eos>\", \"<pad>\"])\n",
    "counter_threshold = 25\n",
    "\n",
    "for char, cnt in words.items():\n",
    "  if cnt > counter_threshold:\n",
    "    vocab.add(char)\n",
    "\n",
    "len(vocab)"
   ]
  },
  {
   "cell_type": "code",
   "execution_count": 8,
   "metadata": {},
   "outputs": [],
   "source": [
    "word2ind = {w: i for i, w in enumerate(vocab)}\n",
    "ind2word = {i: w for w, i in word2ind.items()}"
   ]
  },
  {
   "cell_type": "code",
   "execution_count": 9,
   "metadata": {},
   "outputs": [],
   "source": [
    "class WordDataset:\n",
    "  def __init__(self, sentences):\n",
    "    self.data = sentences\n",
    "    self.unk_id = word2ind[\"<unk>\"]\n",
    "    self.bos_id = word2ind[\"<bos>\"]\n",
    "    self.eos_id = word2ind[\"<eos>\"]\n",
    "    self.pad_id = word2ind[\"<pad>\"]\n",
    "\n",
    "  def __getitem__(self, idx: int) -> List[int]:\n",
    "    processed_text = self.data[idx][\"text\"].lower().translate(\n",
    "        str.maketrans(\"\", \"\", string.punctuation)\n",
    "    )\n",
    "    tokenized_sentence = [self.bos_id]\n",
    "    tokenized_sentence += [\n",
    "        word2ind.get(word, self.unk_id) for word in word_tokenize(processed_text)\n",
    "    ]\n",
    "    tokenized_sentence += [self.eos_id]\n",
    "\n",
    "    train_sample = {\n",
    "        \"text\": tokenized_sentence,\n",
    "        \"label\": self.data[idx][\"label\"]\n",
    "    }\n",
    "\n",
    "    return train_sample\n",
    "\n",
    "  def __len__(self) -> int:\n",
    "    return len(self.data)"
   ]
  },
  {
   "cell_type": "code",
   "execution_count": 10,
   "metadata": {},
   "outputs": [],
   "source": [
    "def collate_fn_with_padding(\n",
    "        input_batch: List[List[int]], pad_id=word2ind['<pad>'], max_len=256) -> torch.Tensor:\n",
    "  seq_lens = [len(x['text']) for x in input_batch]\n",
    "  max_seq_len = min(max(seq_lens), max_len)\n",
    "\n",
    "  new_batch = []\n",
    "  for sequence in input_batch:\n",
    "    sequence['text'] = sequence['text'][:max_seq_len]\n",
    "    for _ in range(max_seq_len - len(sequence['text'])):\n",
    "      sequence['text'].append(pad_id)\n",
    "\n",
    "    new_batch.append(sequence['text'])\n",
    "\n",
    "  sequences = torch.LongTensor(new_batch).to(device)\n",
    "  labels = torch.LongTensor([x['label'] for x in input_batch]).to(device)\n",
    "\n",
    "  new_batch = {\n",
    "      'input_ids': sequences,\n",
    "      'label': labels\n",
    "  }\n",
    "\n",
    "  return new_batch"
   ]
  },
  {
   "cell_type": "code",
   "execution_count": 11,
   "metadata": {},
   "outputs": [],
   "source": [
    "train_dataset = WordDataset(dataset['train'])\n",
    "\n",
    "np.random.seed(42)\n",
    "idx = np.random.choice(np.arange(len(dataset['test'])), 2000)\n",
    "eval_dataset = WordDataset(dataset['test'].select(idx))\n",
    "\n",
    "batch_size = 128\n",
    "train_dataloader = DataLoader(\n",
    "    train_dataset, shuffle=True, collate_fn=collate_fn_with_padding, batch_size=batch_size)\n",
    "\n",
    "eval_dataloader = DataLoader(\n",
    "    eval_dataset, shuffle=False, collate_fn=collate_fn_with_padding, batch_size=batch_size)"
   ]
  },
  {
   "attachments": {},
   "cell_type": "markdown",
   "metadata": {},
   "source": [
    "### Model architecture\n"
   ]
  },
  {
   "cell_type": "code",
   "execution_count": 12,
   "metadata": {},
   "outputs": [],
   "source": [
    "class CharLM(nn.Module):\n",
    "  def __init__(\n",
    "      self, hidden_dim: int, vocab_size: int, num_classes: int = 2,\n",
    "      aggregation_type: str = 'max'\n",
    "  ):\n",
    "    super().__init__()\n",
    "    self.embedding = nn.Embedding(vocab_size, hidden_dim)\n",
    "    self.rnn = nn.RNN(hidden_dim, hidden_dim, batch_first=True)\n",
    "    self.linear = nn.Linear(hidden_dim, hidden_dim)\n",
    "    self.projection = nn.Linear(hidden_dim, num_classes)\n",
    "\n",
    "    self.non_lin = nn.Tanh()\n",
    "    self.dropout = nn.Dropout(p=0.1)\n",
    "\n",
    "    self.aggregation_type = aggregation_type\n",
    "\n",
    "  def forward(self, input_batch) -> torch.Tensor:\n",
    "    # [batch_size, seq_len, hidden_dim]\n",
    "    embeddings = self.embedding(input_batch)\n",
    "    output, _ = self.rnn(embeddings)  # [batch_size, seq_len, hidden_dim]\n",
    "\n",
    "    if self.aggregation_type == 'max':\n",
    "      output = output.max(dim=1)[0]  # [batch_size, hidden_dim]\n",
    "    elif self.aggregation_type == 'mean':\n",
    "      output = output.mean(dim=1)  # [batch_size, hidden_dim]\n",
    "    else:\n",
    "      raise ValueError(\"Invalid aggregation_type\")\n",
    "\n",
    "    # [batch_size, hidden_dim]\n",
    "    output = self.dropout(self.linear(self.non_lin(output)))\n",
    "    # [batch_size, num_classes]\n",
    "    prediction = self.projection(self.non_lin(output))\n",
    "\n",
    "    return prediction"
   ]
  },
  {
   "attachments": {},
   "cell_type": "markdown",
   "metadata": {},
   "source": [
    "### Model training\n"
   ]
  },
  {
   "cell_type": "code",
   "execution_count": 13,
   "metadata": {},
   "outputs": [],
   "source": [
    "def evaluate(model) -> float:\n",
    "  \"\"\"\n",
    "  Calculate accuracy on validation dataloader.\n",
    "  \"\"\"\n",
    "\n",
    "  predictions = []\n",
    "  target = []\n",
    "  with torch.no_grad():\n",
    "    for batch in eval_dataloader:\n",
    "      logits = model(batch['input_ids'])\n",
    "      predictions.append(logits.argmax(dim=1))\n",
    "      target.append(batch['label'])\n",
    "\n",
    "  predictions = torch.cat(predictions)\n",
    "  target = torch.cat(target)\n",
    "  accuracy = (predictions == target).float().mean().item()\n",
    "\n",
    "  return accuracy"
   ]
  },
  {
   "cell_type": "code",
   "execution_count": 14,
   "metadata": {},
   "outputs": [],
   "source": [
    "model = CharLM(hidden_dim=256, vocab_size=len(vocab)).to(device)\n",
    "criterion = nn.CrossEntropyLoss(ignore_index=word2ind[\"<pad>\"])\n",
    "optimizer = torch.optim.Adam(model.parameters())"
   ]
  },
  {
   "cell_type": "code",
   "execution_count": 15,
   "metadata": {},
   "outputs": [
    {
     "name": "stdout",
     "output_type": "stream",
     "text": [
      "Starting training for max\n"
     ]
    },
    {
     "data": {
      "application/vnd.jupyter.widget-view+json": {
       "model_id": "3cb3859014744dd5a5d11bae68136391",
       "version_major": 2,
       "version_minor": 0
      },
      "text/plain": [
       "Training epoch 0::   0%|          | 0/196 [00:00<?, ?it/s]"
      ]
     },
     "metadata": {},
     "output_type": "display_data"
    },
    {
     "data": {
      "application/vnd.jupyter.widget-view+json": {
       "model_id": "82459061c39f47e3a56f65da1ac3b78c",
       "version_major": 2,
       "version_minor": 0
      },
      "text/plain": [
       "Training epoch 1::   0%|          | 0/196 [00:00<?, ?it/s]"
      ]
     },
     "metadata": {},
     "output_type": "display_data"
    },
    {
     "data": {
      "application/vnd.jupyter.widget-view+json": {
       "model_id": "873f82786c464b1fab11c3b32fdd837c",
       "version_major": 2,
       "version_minor": 0
      },
      "text/plain": [
       "Training epoch 2::   0%|          | 0/196 [00:00<?, ?it/s]"
      ]
     },
     "metadata": {},
     "output_type": "display_data"
    },
    {
     "data": {
      "application/vnd.jupyter.widget-view+json": {
       "model_id": "178ede81bb924c409a3815fff62f0c8b",
       "version_major": 2,
       "version_minor": 0
      },
      "text/plain": [
       "Training epoch 3::   0%|          | 0/196 [00:00<?, ?it/s]"
      ]
     },
     "metadata": {},
     "output_type": "display_data"
    },
    {
     "data": {
      "application/vnd.jupyter.widget-view+json": {
       "model_id": "cbb7c0482d2f4bfa94ef41342baabb42",
       "version_major": 2,
       "version_minor": 0
      },
      "text/plain": [
       "Training epoch 4::   0%|          | 0/196 [00:00<?, ?it/s]"
      ]
     },
     "metadata": {},
     "output_type": "display_data"
    },
    {
     "name": "stdout",
     "output_type": "stream",
     "text": [
      "Starting training for mean\n"
     ]
    },
    {
     "data": {
      "application/vnd.jupyter.widget-view+json": {
       "model_id": "e02a039e9fcc4b5f82f075ad559e4f1b",
       "version_major": 2,
       "version_minor": 0
      },
      "text/plain": [
       "Training epoch 0::   0%|          | 0/196 [00:00<?, ?it/s]"
      ]
     },
     "metadata": {},
     "output_type": "display_data"
    },
    {
     "data": {
      "application/vnd.jupyter.widget-view+json": {
       "model_id": "0db25894b55d48adac9a8a77c4365d92",
       "version_major": 2,
       "version_minor": 0
      },
      "text/plain": [
       "Training epoch 1::   0%|          | 0/196 [00:00<?, ?it/s]"
      ]
     },
     "metadata": {},
     "output_type": "display_data"
    },
    {
     "data": {
      "application/vnd.jupyter.widget-view+json": {
       "model_id": "93fd32e9725c4de3aa33d81e89b4cfd5",
       "version_major": 2,
       "version_minor": 0
      },
      "text/plain": [
       "Training epoch 2::   0%|          | 0/196 [00:00<?, ?it/s]"
      ]
     },
     "metadata": {},
     "output_type": "display_data"
    },
    {
     "data": {
      "application/vnd.jupyter.widget-view+json": {
       "model_id": "7822d9ba6ffd464c8bb58b8219b4491e",
       "version_major": 2,
       "version_minor": 0
      },
      "text/plain": [
       "Training epoch 3::   0%|          | 0/196 [00:00<?, ?it/s]"
      ]
     },
     "metadata": {},
     "output_type": "display_data"
    },
    {
     "data": {
      "application/vnd.jupyter.widget-view+json": {
       "model_id": "1bc7f64b74604052816dfc369dc41bc3",
       "version_major": 2,
       "version_minor": 0
      },
      "text/plain": [
       "Training epoch 4::   0%|          | 0/196 [00:00<?, ?it/s]"
      ]
     },
     "metadata": {},
     "output_type": "display_data"
    }
   ],
   "source": [
    "num_epoch = 5\n",
    "eval_steps = len(train_dataloader) // 2\n",
    "\n",
    "\n",
    "losses_type = {}\n",
    "acc_type = {}\n",
    "\n",
    "for aggregation_type in ['max', 'mean']:\n",
    "  print(f\"Starting training for {aggregation_type}\")\n",
    "  losses = []\n",
    "  acc = []\n",
    "\n",
    "  model = CharLM(\n",
    "      hidden_dim=256, vocab_size=len(vocab), aggregation_type=aggregation_type).to(device)\n",
    "  criterion = nn.CrossEntropyLoss(ignore_index=word2ind['<pad>'])\n",
    "  optimizer = torch.optim.Adam(model.parameters())\n",
    "\n",
    "  for epoch in range(num_epoch):\n",
    "    epoch_losses = []\n",
    "    model.train()\n",
    "    for i, batch in enumerate(tqdm(train_dataloader, desc=f'Training epoch {epoch}:')):\n",
    "      optimizer.zero_grad()\n",
    "      logits = model(batch['input_ids'])\n",
    "      loss = criterion(logits, batch['label'])\n",
    "      loss.backward()\n",
    "      optimizer.step()\n",
    "\n",
    "      epoch_losses.append(loss.item())\n",
    "      if i % eval_steps == 0:\n",
    "        model.eval()\n",
    "        acc.append(evaluate(model))\n",
    "        model.train()\n",
    "\n",
    "    losses.append(sum(epoch_losses) / len(epoch_losses))\n",
    "\n",
    "  losses_type[aggregation_type] = losses\n",
    "  acc_type[aggregation_type] = acc"
   ]
  },
  {
   "cell_type": "code",
   "execution_count": 16,
   "metadata": {},
   "outputs": [
    {
     "data": {
      "image/png": "[encoded data removed]",
      "text/plain": [
       "<Figure size 640x480 with 1 Axes>"
      ]
     },
     "metadata": {},
     "output_type": "display_data"
    }
   ],
   "source": [
    "for (name, values), color in zip(losses_type.items(), [\"red\", \"blue\"]):\n",
    "  plt.plot(np.arange(len(losses_type[name])),\n",
    "           losses_type[name], color=color, label=name)\n",
    "\n",
    "plt.title(\"Losses\")\n",
    "plt.xlabel(\"epoch\")\n",
    "plt.legend()\n",
    "plt.show()"
   ]
  },
  {
   "cell_type": "code",
   "execution_count": 17,
   "metadata": {},
   "outputs": [
    {
     "name": "stdout",
     "output_type": "stream",
     "text": [
      "Best accuracy for approach max: 86.65\n",
      "Best accuracy for approach mean: 86.70\n"
     ]
    },
    {
     "data": {
      "image/png": "[encoded data removed]",
      "text/plain": [
       "<Figure size 640x480 with 1 Axes>"
      ]
     },
     "metadata": {},
     "output_type": "display_data"
    }
   ],
   "source": [
    "for (name, values), color in zip(acc_type.items(), [\"red\", \"blue\"]):\n",
    "  plt.plot(np.arange(len(acc_type[name])),\n",
    "           acc_type[name], color=color, label=name)\n",
    "  print(\n",
    "      f\"Best accuracy for approach {name}: {(max(acc_type[name]) * 100):.2f}\")\n",
    "\n",
    "plt.title(\"Accuracy\")\n",
    "plt.xlabel(\"epoch\")\n",
    "plt.legend()\n",
    "plt.show()"
   ]
  },
  {
   "cell_type": "code",
   "execution_count": null,
   "metadata": {},
   "outputs": [],
   "source": []
  }
 ],
 "metadata": {
  "kernelspec": {
   "display_name": "nlp",
   "language": "python",
   "name": "python3"
  },
  "language_info": {
   "codemirror_mode": {
    "name": "ipython",
    "version": 3
   },
   "file_extension": ".py",
   "mimetype": "text/x-python",
   "name": "python",
   "nbconvert_exporter": "python",
   "pygments_lexer": "ipython3",
   "version": "3.11.3"
  },
  "orig_nbformat": 4
 },
 "nbformat": 4,
 "nbformat_minor": 2
}
